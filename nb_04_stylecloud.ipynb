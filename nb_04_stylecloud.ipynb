{
 "cells": [
  {
   "cell_type": "markdown",
   "id": "d3ebd843",
   "metadata": {},
   "source": [
    "# External Shock on Energy Politics with new source"
   ]
  },
  {
   "cell_type": "code",
   "execution_count": 1,
   "id": "595b8846-15bd-48cd-b812-e04bc8973a15",
   "metadata": {},
   "outputs": [],
   "source": [
    "import stylecloud\n",
    "\n",
    "from src.keywords import ANTI_NUCLEAR, CONSERVATIVE_ENERGY, NEUTRAL_ENERGY, PRO_NUCLEAR"
   ]
  },
  {
   "cell_type": "code",
   "execution_count": 2,
   "id": "1615140b-f30b-4667-a15a-7ef1d56daf87",
   "metadata": {},
   "outputs": [],
   "source": [
    "text = \" \".join(ANTI_NUCLEAR + CONSERVATIVE_ENERGY + NEUTRAL_ENERGY + PRO_NUCLEAR)\n",
    "stylecloud.gen_stylecloud(\n",
    "    text=text,\n",
    "    icon_name=\"fas fa-atom\",\n",
    "    palette=\"colorbrewer.qualitative.Dark2_8\",\n",
    "    background_color=\"black\",\n",
    "    gradient=\"horizontal\",\n",
    "    output_name=\"docs/atom.png\",\n",
    ")"
   ]
  },
  {
   "cell_type": "markdown",
   "id": "f531177e",
   "metadata": {},
   "source": [
    "![atom wordcloud](docs/atom.png)"
   ]
  },
  {
   "cell_type": "code",
   "execution_count": null,
   "id": "d86de705-51bc-40f7-9140-20175bd16eba",
   "metadata": {},
   "outputs": [],
   "source": []
  }
 ],
 "metadata": {
  "jupytext": {
   "encoding": "# -*- coding: utf-8 -*-",
   "formats": "ipynb,py:percent"
  },
  "kernelspec": {
   "display_name": "Python 3",
   "language": "python",
   "name": "python3"
  },
  "language_info": {
   "codemirror_mode": {
    "name": "ipython",
    "version": 3
   },
   "file_extension": ".py",
   "mimetype": "text/x-python",
   "name": "python",
   "nbconvert_exporter": "python",
   "pygments_lexer": "ipython3",
   "version": "3.8.8"
  }
 },
 "nbformat": 4,
 "nbformat_minor": 5
}
