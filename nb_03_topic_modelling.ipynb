{
 "cells": [
  {
   "cell_type": "markdown",
   "id": "9a11cae0",
   "metadata": {},
   "source": [
    "# Topic Modeling\n",
    "Eyeballing parliamentary minutes for two election periods using topic modelling is performed in this notebook. The initial creation of n-grams takes long (~1h.\n",
    "- Language model from spaCy\n",
    "- n-grams models are large in size and quick to compute given n-gram prepared text\n",
    "- Corpus and LDA with gensim\n",
    "- Visualization with pyLDAvis"
   ]
  },
  {
   "cell_type": "markdown",
   "id": "929f2ee6",
   "metadata": {},
   "source": [
    "## Setup"
   ]
  },
  {
   "cell_type": "code",
   "execution_count": 4,
   "id": "9561e4ad",
   "metadata": {},
   "outputs": [],
   "source": [
    "VERBOSE = False"
   ]
  },
  {
   "cell_type": "code",
   "execution_count": 5,
   "id": "06954fac",
   "metadata": {},
   "outputs": [
    {
     "name": "stderr",
     "output_type": "stream",
     "text": [
      "/usr/local/Caskroom/miniconda/base/envs/bt/lib/python3.8/site-packages/scipy/sparse/sparsetools.py:21: DeprecationWarning: `scipy.sparse.sparsetools` is deprecated!\n",
      "scipy.sparse.sparsetools is a private module for scipy.sparse, and should not be used.\n",
      "  _deprecated()\n",
      "/usr/local/Caskroom/miniconda/base/envs/bt/lib/python3.8/site-packages/gensim/similarities/__init__.py:15: UserWarning: The gensim.similarities.levenshtein submodule is disabled, because the optional Levenshtein package <https://pypi.org/project/python-Levenshtein/> is unavailable. Install Levenhstein (e.g. `pip install python-Levenshtein`) to suppress this warning.\n",
      "  warnings.warn(msg)\n"
     ]
    }
   ],
   "source": [
    "import codecs\n",
    "from pathlib import Path\n",
    "\n",
    "import _pickle as pickle\n",
    "import pyLDAvis\n",
    "import pyLDAvis.gensim_models\n",
    "import spacy\n",
    "from gensim.corpora import Dictionary, MmCorpus\n",
    "from gensim.models import Phrases\n",
    "from gensim.models.ldamulticore import LdaMulticore\n",
    "from gensim.models.word2vec import LineSentence"
   ]
  },
  {
   "cell_type": "code",
   "execution_count": 6,
   "id": "e1d004fb",
   "metadata": {},
   "outputs": [],
   "source": [
    "# Create subfolder 'tm' and 'out' in 'data'\n",
    "Path(\"data/tm\").mkdir(parents=True, exist_ok=True)\n",
    "Path(\"data/out\").mkdir(parents=True, exist_ok=True)"
   ]
  },
  {
   "cell_type": "markdown",
   "id": "1a53bf0c",
   "metadata": {
    "tags": []
   },
   "source": [
    "#### Configuration\n",
    "- Models are large in size and quick to compute -> save only when re-running the notebook frequently"
   ]
  },
  {
   "cell_type": "code",
   "execution_count": 7,
   "id": "af21c6ba",
   "metadata": {},
   "outputs": [],
   "source": [
    "SAVE_MODELS = True\n",
    "# language_model = \"de_dep_news_trf\"\n",
    "language_model = \"de_core_news_lg\"\n",
    "gerNLP = spacy.load(language_model)\n",
    "speeches_txt_filepath = \"data/plpr_alltext.txt\""
   ]
  },
  {
   "cell_type": "markdown",
   "id": "1c102e9d",
   "metadata": {},
   "source": [
    "### Helper Functions\n",
    "The helper functions help with text preprocessing, the creation of n-grams, and to show results. The creation of the lemmatized sentence corpuse is memory intense. Reduce batch size and the number of parallel processes if needed."
   ]
  },
  {
   "cell_type": "code",
   "execution_count": 8,
   "id": "78b8662c",
   "metadata": {},
   "outputs": [],
   "source": [
    "def preview(filepath, N=1000):\n",
    "    \"\"\"Previews N characters of file.\"\"\"\n",
    "    with open(filepath) as temp:\n",
    "        head = next(temp)\n",
    "        head = head[:N]\n",
    "    temp.close()\n",
    "    return head\n",
    "\n",
    "\n",
    "def preview_lines(filepath, N=5):\n",
    "    \"\"\"Previews N lines of file.\"\"\"\n",
    "    with open(filepath) as temp:\n",
    "        head = [next(temp) for i in range(N)]\n",
    "    temp.close()\n",
    "    return head\n",
    "\n",
    "\n",
    "def punct_space(token):\n",
    "    \"\"\"Removes punctuation and whitespace.\"\"\"\n",
    "    return token.is_punct or token.is_space\n",
    "\n",
    "\n",
    "def line_speech(filename):\n",
    "    \"\"\"Reads lines and ignores lines breaks\"\"\"\n",
    "    with codecs.open(filename, encoding=\"utf_8\") as f:\n",
    "        for speech in f:\n",
    "            yield speech.replace(\"\\\\n\", \"\\n\")\n",
    "\n",
    "\n",
    "def lemmatized_sentence_corpus_to_file(input_file, output_file):\n",
    "    \"\"\"Parses speeches with spaCy, writes lemmatized sentences to file.\"\"\"\n",
    "    with codecs.open(output_file, \"w\", encoding=\"utf_8\") as f:\n",
    "        for parsed_speech in gerNLP.pipe(\n",
    "            line_speech(input_file), batch_size=100, n_process=8\n",
    "        ):\n",
    "            for sent in parsed_speech.sents:\n",
    "                parsed_sent = \" \".join(\n",
    "                    [token.lemma_ for token in sent if not punct_space(token)]\n",
    "                )\n",
    "                f.write(parsed_sent + \"\\n\")"
   ]
  },
  {
   "cell_type": "markdown",
   "id": "357f853f",
   "metadata": {},
   "source": [
    "## Unigrams\n",
    "The text file is a text-only extract of the speeches of the plenary protocols dataframe in `nb_02`. To create unigrams, all text is cleaned by stripping junk such as stop words or meaningless filter words, conjugated words are reversed to their base form."
   ]
  },
  {
   "cell_type": "code",
   "execution_count": 9,
   "id": "6ad15c37",
   "metadata": {},
   "outputs": [
    {
     "data": {
      "text/plain": [
       "'\"Herr Alterspräsident, ich schlage für die CDU/CSU-Bundestagsfraktion den Kollegen Dr. Norbert Lammert vor.\"\\n'"
      ]
     },
     "execution_count": 9,
     "metadata": {},
     "output_type": "execute_result"
    }
   ],
   "source": [
    "preview(speeches_txt_filepath)"
   ]
  },
  {
   "cell_type": "code",
   "execution_count": 10,
   "id": "1b99650f",
   "metadata": {},
   "outputs": [
    {
     "name": "stdout",
     "output_type": "stream",
     "text": [
      "Unigram sentences available at data/tm/unigram_sent_all.txt\n",
      "CPU times: user 326 µs, sys: 591 µs, total: 917 µs\n",
      "Wall time: 947 µs\n"
     ]
    }
   ],
   "source": [
    "%%time\n",
    "# long running\n",
    "unigram_sentences_filepath = \"data/tm/unigram_sent_all.txt\"\n",
    "\n",
    "if Path(unigram_sentences_filepath).exists():\n",
    "    print(f\"Unigram sentences available at {unigram_sentences_filepath}\")\n",
    "else:\n",
    "    print(f\"Unigram sentences not available. Now creating {unigram_sentences_filepath}\")\n",
    "    lemmatized_sentence_corpus_to_file(\n",
    "        input_file=speeches_txt_filepath, output_file=unigram_sentences_filepath\n",
    "    )\n",
    "unigram_sentences = LineSentence(unigram_sentences_filepath)\n",
    "# preview_lines(unigram_sentences_filepath)"
   ]
  },
  {
   "cell_type": "markdown",
   "id": "13ff6bf5",
   "metadata": {},
   "source": [
    "## Bigrams\n",
    "Bigrams (or any larger structure of n-grams) represent word pairs (or triplets, quadruples, etc.) of words commonly appearing together. \"Renewable\" and \"energy\" used independetly do not convey the same meaning as \"renewable_energy\"."
   ]
  },
  {
   "cell_type": "code",
   "execution_count": 11,
   "id": "5346f97b",
   "metadata": {},
   "outputs": [
    {
     "name": "stdout",
     "output_type": "stream",
     "text": [
      "Bigram model available at data/tm/bigram_model_all\n",
      "CPU times: user 1.17 s, sys: 194 ms, total: 1.36 s\n",
      "Wall time: 1.39 s\n"
     ]
    }
   ],
   "source": [
    "%%time\n",
    "bigram_model_filepath = \"data/tm/bigram_model_all\"\n",
    "if Path(bigram_model_filepath).exists():\n",
    "    print(f\"Bigram model available at {bigram_model_filepath}\")\n",
    "    bigram_model = Phrases.load(bigram_model_filepath)\n",
    "else:\n",
    "    print(f\"Bigram model not available. Now creating {bigram_model_filepath}\")\n",
    "    bigram_model = Phrases(unigram_sentences)\n",
    "    if SAVE_MODELS:\n",
    "        bigram_model.save(bigram_model_filepath)"
   ]
  },
  {
   "cell_type": "code",
   "execution_count": 12,
   "id": "eae94ebe",
   "metadata": {},
   "outputs": [
    {
     "name": "stdout",
     "output_type": "stream",
     "text": [
      "Bigram sentences available at data/tm/bigram_sent_all.txt\n"
     ]
    },
    {
     "data": {
      "text/plain": [
       "['Herr_Präsident\\n',\n",
       " 'Meine_Dame und Herr\\n',\n",
       " 'Am_Freitag der letzt_Woche 14.45 Uhr Ortszeit beben in Japan der Erde\\n',\n",
       " 'Seismologen maßen einen Stärke von 8,9 spät korrigieren auf 9,0.\\n',\n",
       " 'ich sein der schwer_Erdbeben in der Geschichte Japan\\n']"
      ]
     },
     "execution_count": 12,
     "metadata": {},
     "output_type": "execute_result"
    }
   ],
   "source": [
    "bigram_sentences_filepath = \"data/tm/bigram_sent_all.txt\"\n",
    "if Path(bigram_sentences_filepath).exists():\n",
    "    print(f\"Bigram sentences available at {bigram_sentences_filepath}\")\n",
    "else:\n",
    "    print(f\"Bigram sentences not available. Now creating {bigram_sentences_filepath}\")\n",
    "    with codecs.open(bigram_sentences_filepath, \"w\", encoding=\"utf_8\") as f:\n",
    "        for unigram_sentence in unigram_sentences:\n",
    "            bigram_sentence = \" \".join(bigram_model[unigram_sentence])\n",
    "            f.write(bigram_sentence + \"\\n\")\n",
    "\n",
    "bigram_sentences = LineSentence(bigram_sentences_filepath)\n",
    "\n",
    "preview_lines(bigram_sentences_filepath)"
   ]
  },
  {
   "cell_type": "markdown",
   "id": "9319e40d",
   "metadata": {},
   "source": [
    "## Trigrams\n",
    "As bigrams are used to create trigrams, there is the chance of two bigrams being combined which would be a 4-gram."
   ]
  },
  {
   "cell_type": "code",
   "execution_count": 13,
   "id": "b0ac78e6",
   "metadata": {},
   "outputs": [
    {
     "name": "stdout",
     "output_type": "stream",
     "text": [
      "Trigram model available at data/tm/trigram_model_all\n",
      "CPU times: user 1.31 s, sys: 210 ms, total: 1.52 s\n",
      "Wall time: 1.58 s\n"
     ]
    }
   ],
   "source": [
    "%%time\n",
    "trigram_model_filepath = \"data/tm/trigram_model_all\"\n",
    "if Path(trigram_model_filepath).exists():\n",
    "    print(f\"Trigram model available at {trigram_model_filepath}\")\n",
    "    trigram_model = Phrases.load(trigram_model_filepath)\n",
    "else:\n",
    "    print(f\"Trigram model not available. Now creating {trigram_model_filepath}\")\n",
    "    trigram_model = Phrases(bigram_sentences)\n",
    "    if SAVE_MODELS:\n",
    "        trigram_model.save(trigram_model_filepath)"
   ]
  },
  {
   "cell_type": "code",
   "execution_count": 14,
   "id": "2c007d55",
   "metadata": {},
   "outputs": [
    {
     "name": "stdout",
     "output_type": "stream",
     "text": [
      "Trigram sentences available at data/tm/trigram_sent_all.txt\n"
     ]
    },
    {
     "data": {
      "text/plain": [
       "['Herr_Präsident\\n',\n",
       " 'Meine_Dame und Herr\\n',\n",
       " 'Am_Freitag der letzt_Woche 14.45 Uhr Ortszeit beben in Japan der Erde\\n',\n",
       " 'Seismologen maßen einen Stärke von 8,9 spät korrigieren auf 9,0.\\n',\n",
       " 'ich sein der schwer_Erdbeben in der Geschichte Japan\\n']"
      ]
     },
     "execution_count": 14,
     "metadata": {},
     "output_type": "execute_result"
    }
   ],
   "source": [
    "# short running\n",
    "trigram_sentences_filepath = \"data/tm/trigram_sent_all.txt\"\n",
    "if Path(trigram_sentences_filepath).exists():\n",
    "    print(f\"Trigram sentences available at {trigram_sentences_filepath}\")\n",
    "else:\n",
    "    print(f\"Trigram sentences not available. Now creating {trigram_sentences_filepath}\")\n",
    "    with codecs.open(trigram_sentences_filepath, \"w\", encoding=\"utf_8\") as f:\n",
    "        for bigram_sentence in bigram_sentences:\n",
    "            trigram_sentence = \" \".join(trigram_model[bigram_sentence])\n",
    "            f.write(trigram_sentence + \"\\n\")\n",
    "\n",
    "trigram_sentences = LineSentence(trigram_sentences_filepath)\n",
    "\n",
    "preview_lines(trigram_sentences_filepath)"
   ]
  },
  {
   "cell_type": "code",
   "execution_count": 15,
   "id": "2e632807",
   "metadata": {},
   "outputs": [
    {
     "name": "stdout",
     "output_type": "stream",
     "text": [
      "Trigram speeches available at data/tm/trigram_transformed_speeches_all.txt\n",
      "CPU times: user 868 µs, sys: 1.08 ms, total: 1.95 ms\n",
      "Wall time: 1.55 ms\n"
     ]
    },
    {
     "data": {
      "text/plain": [
       "['Herr_Präsident Meine_Dame Herr Am_Freitag letzt_Woche 14.45 Ortszeit beben Japan Erde Seismologen maßen Stärke 8,9 spät korrigieren 9,0. schwer_Erdbeben Geschichte Japan Epizentrum liegen circa_130 Kilometer östlich Stadt Sendai circa_400 Kilometer nordöstlich japanisch Hauptstadt Tokio 16_Uhr Ortszeit treffen 10_Meter Flutwelle Ostküste japanisch Hauptinsel Honshu richten schwer Verwüstungen am_Abend geben Meldung wonach Reaktor Kernkraftwerks Fukushima I Kühlung ausfallen Atomkraftwerk Onagawa Feuer ausbrechen japanische_Regierung rufen atomar Notstand folgend Nacht erschüttern zahlreiche zum_Teil schwer Nachbeben Land bis_heute Erdbeben Tsunami Landstriche Japan Nordosten verwüsten Ortschaft auslöschen Zahl Opfer schnellen Höhe tatsächlich wissen Mensch vermisst unzählig Haus Straße zerstören Unendlich Mensch Obdach verlieren Strom rationieren weg Treibstoff Trinkwasser Nahrungsmittel knapp Kernkraftwerk Fukushima Evakuierungszone Freitag immer_wieder erweitern Arbeiter fahren sagen heldenhaft verzweifeln Kampf_gegen atomar Super-GAU setzen Gesundheit_aufs Spiel Leben dramatisch entwickeln Ereignis ausgefallen Kühlanlagen Bericht freiliegende Brennstäbe stark erhitzen Explosion verschieden Reaktor Fall Folge Beschädigung Sicherheitsbehälters Radioaktivität tritt davon_ausgehen_dass Anlage schwer_Schaden Reaktorkernen angesichts all Bericht Bild letzt_Freitag sehen verstehen versuchen erfüllen Entsetzen Fassungslosigkeit Mitgefühl Trauer Katastrophe Japan geradezu apokalyptisch Ausmaß fehlen Wort tiefste Anteilnahme Gedanke Gebet Mensch Japan Stunde schwer Prüfung stehen Deutschland Seite Japan Mensch Japan Bewältigung schier unfassbaren Katastrophe helfen Premierminister Kan übermitteln Bundesaußenminister japanisch Kollege sagen Experte Technische_Hilfswerk vergangen_Tag vor_Ort Suche_nach Überlebenden helfen Ich_danke danke Helfer ander Organisation Einsatz Mensch Japan Ich_danke Helfer Krisenstabes Auswärtige_Amt Botschaft vor_Ort koordinieren Hilfe unterstützen all deutsch_Staatsangehörigen Krisengebiet Ausreise wünschen Vereinte_Nation Team Japan entsenden japanische_Regierung unterstützen Aufbaumaßnahmen koordinieren Ebenfalls Hilfe_angeboten europäisch_Union lieben_Kollegin Kollege Folge Katastrophe absehbar Betroffene vor_Ort fast gar_kein Chance feststellen welch Bereich tatsächlich Hilfe genau benötigen Albtraum neu Beben nuklear Horrorszenarien finden Lage unverzichtbar Mensch Japan zeigen zählen Geste jed_Einzelne Namhafte deutsch Hilfsorganisation Spendenkonten einrichten Bundespräsident am_Montag dazu_aufrufen mithilfe Spende Organisation Soforthilfe Japan leisten Ich_mögen Aufruf ausdrücklich unterstützen Spendenaktionen vor_alle Mensch Japan zugutekommen Beben Flutwelle nuklear Folge Zuhause verlieren unmittelbar Unterstützung Zeichen Solidarität senden Hilfe Freund Japan eng_Freund Deutschland sage 150. Bestehen diplomatisch_Beziehung Stunde unzählig nackt_Überleben Beinahe verbieten angesichts Tragödie wirtschaftlich Auswirkung Katastrophe denken obwohl Zukunft Japan groß_Bedeutung überschlagend Schreckensmeldungen hoffentlich_bald finden wirtschaftlich Auswirkung dreifach Katastrophe sagen abschätzbar vergangen Naturkatastrophen Japan Volkswirtschaft staatliche Wiederaufbauprogramme schnellen Bein schwer_Erdbeben Stadt Kobe 1995 Rezession verhindern Dennoch denken Welt Mal darauf_vorbereiten Katastrophe japanische Wirtschaft groß_Herausforderung stellen früh Katastrophe Japan vergessen drittgrößte Volkswirtschaft Welt befürchten derzeit Weltwirtschaft signifikant beeinträchtigen ergänzen ausdrücklich international_Partner daran_arbeiten Folge Katastrophe global Konjunktur bestmöglich minimieren Meine_Dame Herr Ereignis Japan bedeuten Japan unfassbare Katastrophe Einschnitt ganze_Welt Europa Deutschland Ich_habe vergangen fünf_Tag sagen wiederholen einfach zur_Tagesordnung_übergehen Tagesordnung weder Mensch Deutschland zeigen außergewöhnlich Interesse Sondersendungen im_Fernsehen Politik Bundesregierung Tagesordnung_übergegangen bleiben wahren Derart gewaltig Erdbeben Flutwellen Japan triefen treffen Erfahrung wissenschaftlich Erwartung gesundheitlich_Beeinträchtigung nuklear Katastrophe Japan Deutschland nach_menschlich_Ermessen rechnen Ort Katastrophe entfernen bleiben wahren wissen sichern Kernkraftwerke gehören weltweit sicher lehne weiterhin Kernkraftwerke Deutschland abschalten Strom_aus Kernkraftwerken ander Land beziehen bleiben wahren Industrieland Deutschland groß_Wirtschaftsnation Europa gleichen vollständig Kernenergie_als_Brückentechnologie verzichten Energieverbrauch eigenständig zuverlässig decken Ich_mögen dies_Stelle sicherlich Reihe Auseinandersetzung geben noch_einmal festhalten Deutschland geben Konsens all Partei neu Kernkraftwerke_bauen Kernkraft Brückentechnologie Kernkraft auslaufen Linke Sonderrolle Entschuldigung einbeziehen brauchen Ausstieg_mit_Augenmaß Land Deutschland im_Übrigen Verpflichtung zum_Schutz Klima gerecht Klimawandel bleiben groß_Herausforderung Menschheit Klimawandel Problem Menschheit klassifizieren ander gelten Zunge sprechen bleiben wahren Energie Deutschland Mensch bezahlbar Problem_lösen Arbeitsplätze ander Land abwandern Sicherheit Kernkraftwerke vielleicht_sogar gering dennoch Bundesregierung trotzen_all unbestrittenen Faktum einfach zur_Tagesordnung_übergehen überragend Grund unfassbaren Ereignis Japan lehren wissenschaftlich Maßstab unmöglich halten lehren Risiko absolut unwahrscheinlich halten vollends unwahrscheinlich Realität entwickeln Land Japan scheinbar Unmögliche absolut Unwahrscheinliche Realität verändern Lage Lage handeln handeln Mensch Deutschland darauf_verlassen Sicherheit Schutz Bundesregierung ober_Gebot gelten Grundsatz Im_Zweifel Sicherheit im_Licht Ereignis Japan veranlasst all deutsch_Kernkraftwerke noch_einmal umfassend Sicherheitsprüfung unterziehen im_Licht neu Lage setzen Verlängerung Laufzeiten deutsch_Kernkraftwerke Zeitraum dreimonatig Moratoriums all Kernkraftwerke 1980 früh Betrieb vom_Netz_nehmen sagen Moratorium bedeuten Moratorium Verlängerung Laufzeiten führen Rechtsgrundlage rot-grünen_Regierung wiederum zur_Folge Neckarwestheim 1 abschalten müsste all ander Kernkraftwerke zum_jetzig_Zeitpunkt weiterlaufen hören genau einfach bitten Herr_Kelber mal zuhören Bund Land Abschaltung rechtliche Verfügung Aufsichtsbehörden Land anordnen Gesetz friedliche Verwendung Kernenergie Schutz Gefahr Atomgesetz nennen sehen genau Anlage vorübergehen stilllegen Behörde Klarheit Lage verschaffen Ich_danke dies_Stelle Kollege_Oppermann ausdrücklich Angebot Fraktion Koalition nächst_Woche gemeinsam formulieren Abschaltgesetz verabschieden dennoch Auffassung Angebot annehmen brauchen beschrieben Sinn handeln umgehen meinen_Dame Herr noch_einmal_präzisieren wichtig unbestrittene Sicherheit deutsch_Kernkraftwerke beruhen Einhaltung Atomgesetzes Atomgesetz beruhend Rechtsverordnungen erteilen_Genehmigung Vorkommnis Japan zeigen Ereignis jenseits berücksichtigen Szenarium eintreten Entschuldigung Genehmigung vergeben Hieraus resultieren Notwendigkeit Lage unter_Berücksichtigung aktuell_Ereignis vorbehaltlos analysieren hieraus entsprechend Schluß ziehen dreimonatige Betriebseinstellung sieben_alt Anlage vorläufig aufsichtliche Maßnahme sehen Atomgesetz 19_Abs. 3_Satz_2_Nr. 3 einschlägig Rechtsgrundlage Rechtsgrundlage bei_Vorliegen Gefahrenverdachts einstweilig Betriebseinstellung anordnen hören derartig Verdacht Atomrecht genau geben begründet Unsicherheit im_Rahmen Risikovorsorge Schadensmöglichkeiten völlig_ausschließen lassen Hören bitte mal Entschuldigung noch_einmal_wiederholen Lage Im_Augenblick rede Lage Hochverehrter Herr_Steinmeier Kernkraftwerke Ausnahme Neckarwestheim Rot-Grün geschaffen Rechtslage am_Netz Wahrheit Nehmen einfach sagen ebenfalls Lage erwarten alt Anlage Frage Auslegung berücksichtigen Szenarium besonder_Weise stellen Bundesregierung Ministerpräsidenten Bundesländer Kernkraftwerken dazu_entschließen Anlage Zeitraum Überprüfung vom_Netz nehmen Ausdruck äußer Vorsorge Bundesregierung Ministerpräsidenten zum_Schutz Bevölkerung verpflichten sehen Ich_mögen dies_Stelle festhalten aufsichtsrechtliche Maßnahme Deal Absprache gar_nichts Anwendung Atomgesetzes neu Lage Verantwortung meinen_Dame Herr sowohl Sache Verfahren Ministerpräsidenten Standortländer vollkommen_einigen Bund Land gemeinsam Verantwortung deshalb_sage verhehle Debatte gestrig_Tag rechtlich_Grundlage Handeln Bund Land sicherlich gleichen fortsetzen nur_schwer_nachvollziehen sichern politisch_Handeln all juristisch Anforderung stets ernst_nehmen gering Zweifel geben sage kein_Missverständnis_entstehen Situation äußer Gefahrenvorsorge Bund Land im_Licht Ereignis Japan juristische Trick unterstellen juristisch Trick unterstellen meinen_Dame Herr Dazu_hören im_Übrigen Moratoriums Gespräch mit_Blick_auf Anwendung Atomgesetzes sinnvoll Kreis Ministerpräsidenten beschränken bleiben vorgestern beraten gelten all Gespräch Bundesregierung nächst_Zeit fahren Akzeptanz Fortentwicklung Energiepolitik insgesamt gesellschaftliche_Gruppe einbeziehen Wirtschaft Gewerkschaft Umweltverbände Kirche all Ministerpräsidenten all Bundesländer einbeziehen zum_Beispiel neue_Leitung Trasse zeitnah geschehen vor_Ostern als_Erstes verdächtigen Meine_Dame Herr Sicherheit Kernenergie national mindestens_ebenso internationale_Dimension Europa international im_Rahmen G_20 dafür_eintreten notwendig_Schlussfolgerungen Ereignis Japan ziehen Ich_habe Thema Nukleare Sicherheit nächst Europäische_Rat Staats- Regierungschefs nächst_Woche am_24. 25._März anmelden Ratspräsident Aufsetzung Tagesordnungspunkts zustimmen Auf_EU-Ebene Energiekommissar_Oettinger schnellen handeln begrüßen beginnen Gespräch wichtig Akteur fahren unterstützen Initiative EU-weiten Stresstest all Kernkraftwerke brauchen gesamt Europäische_Union hoch_Sicherheitsstandards Sicherheitsrisiken Staat Kernkraftwerk stehen betreffen Ich_habe Nicolas_Sarkozy verabreden Frankreich gemeinsam Deutschland Initiative G_20 weltweit Sicherheit Kernkraftwerken einbringen G-20-Präsident französische_Präsident Energieminister G-20-Länder Paris Sondertreffen einladen dreimonatig_Moratorium endgültig Konsequenz Betrieb Kernkraftwerke entscheiden wiederholen Ort seit_Montag sage Lage Moratorium ander Lage Moratorium Prüfstand darüber_hinaus sage kein_Missverständnis_entstehen ander Lage Lage rot-grünen Gesetz weder Ereignis Japan einfach zur_Tagesordnung_übergehen rot-grüne Konzept tragfähig Land Deutschland groß_Wirtschaftsnation Europa Anspruch hoch_Sicherheitsstandards im_Licht all Erkenntnis bewusst ehrgeizig bemessene Moratoriums nutzen Energiewende voranzutreiben beschleunigen schnellen Zeitalter erneuerbaren_Energie erreichen Ziel Ausstieg_mit_Augenmaß Klar Sicherheit Kernenergie neu bewerten möglicherweise Ergebnis Moratoriums vorgreifen Anlage schnell vom_Netz nehmen Schlussfolgerung schnell System Energieversorgung Grundlage erneuerbarer_Energie heißen sehr_ambitioniert Maßnahme Energiekonzepts konsequent_umsetzen beschleunigen Ausbau erneuerbaren_Energie notwendig Netzinfrastruktur schnell voranbringen Umsetzung klaren Zeitplanung vorlegen klaren brauchen Brückentechnologie Kernenergie Anschluss finden ander heißen Problem Tisch kehren widersprechen Anspruch christlich-liberalen_Koalition bloß neidisch Heiner_Geißler Meine_Güte ausreden reden ernsthaft Ding meinen_Dame Herr Ich_erinnern noch_einmal Energiekonzept sehen Jahr_2050 Anteil erneuerbaren_Energie 80_Prozent extrem anspruchsvoll diskutieren Voraussetzung sprechen ganz_konkret betreffen Ausbau Windenergie Land auf_See zeigen konkret Windparks errichten Windenergie langfristig tragend_Säule Stromversorgung ausbauen KfW-Programm starten Startschuss Investition Offshorewindparks geben wichtig sage unabdingbar_Voraussetzung Ausbau Stromnetze erneuerbare_Energie Bau erforderlich Stromtrassen neu errichten verweigern Perspektive System debattieren Strom_aus_erneuerbaren_Energie flexibel Verbraucher bringen bedarfsgerecht speichern jederzeit verfügbar verteilen Nicht_zuletzt Steigerung Energieeffizienz unverzichtbar modern_Technologie Bereich Verbraucher Industrie zentral Handlungsfeld EU-Energiekommissar Oettinger neu Aktionsplan Energieeffizienz vorlegen all brauchen besonders_wichtig breit_Unterstützung Akzeptanz Gesellschaft erneuerbaren_Energie ausbauen notwendig Stromnetze errichten Hierfür all Ausbau erneuerbaren_Energie Akzeptanz Bürgerin Bürger vor_Ort werben schleichen ergreifen Fall werben ander spielen sagen darüber_diskutieren reichen Frau_Künast bestimmen Fraktion entscheiden Redezeit geben entscheiden Schau Parteitagsbeschlüsse Ausbau Stromtrassen Stromeinsparung erreichen Verbraucher aktiv mitmachen Neues Anlage Windkraftwerke Pumpspeicherwerke bitte schauen protestieren hocheffiziente konventionelle_Kraftwerk schauen Kohlekraftwerke errichten all Haus dafür_eintreten bauen Meine_Dame Herr schließlich Streitthema vorankommen Entsorgung radioaktiv_Abfall Aufgabe Zukunft zukünftig_Generation schieben packen Thema Rot-Grün unverantwortlich_Weise liegen lassen entschließen vermeintlich tragfähig Ausstieg Bereich Zukunft im_Blick Kopf Sand_stecken Entsorgung Moratorium Gorleben vereinbart ersparen Sicherheit Herr_Trittin wissen genau sogenannt Atomkonsens Jahr_2000 unterzeichnen 2001 vereinbart Restlaufzeiten sage noch_einmal Neckarwest-heim 1 abschalten all ander am_Netz Gesetz gefordert hoch_Sicherheitsstandard gewährleisten Bundesregierung Initiative_ergreifen Sicherheitsstandard zugrundeliegende Sicherheitsphilosophie ändern Bundesregierung Initiative_ergreifen Einhaltung Hören Ausschnitt lesen lesen Einhaltung atomrechtlichen Anforderung gewährleisten Bundesregierung ungestört Betrieb Anlage neu Sicherheitsstandards Meine_Dame Herr Antrag sofortig Inkraftsetzung kerntechnischen_Regelwerks zur_Abstimmung_stellen Lassen Wort sagen Unter_Rot-Grün erst_einmal gar_nichts unternehmen ausarbeiten anwenden Großen_Koalition Frage Herr_Gabriel Frage Stillstand Sicherheit dankenswerterweise verpflichten_fühlen Ich_sage ausdrücklich_loben Herr_Gabriel kerntechnische_Regelwerk Erprobung parallel gängig geltend Sicherheitsvorschriften laufen lassen Herr_Gabriel kritisieren pikanterweise ehemalig_Staatssekretär Herrn Baake Grüne Herr_Gabriel im_Juni_2009 Vorwurf sage gerechterweise ausführlich zurückweisen empfehlen Pressemitteilung BMU vom_16. Juni_2009 lesen stehen Vorwurf haltlos im_Juni_2009 sagen Verfahren 15_Monat langen erproben Berechnung bis_zum September 2010. Regierung Verlängerung Laufzeiten debattieren Zusammenhang Atomgesetz bezüglich Sicherheitsanforderungen verändern dafür_sorgen_dass 7_d Atomgesetzes Verpflichtung einführen Ich_finden Haus verpflichten Wahrheit bemühen gelten Opposition Einführung neu 7_d Atomgesetzes neu Verpflichtung Betreiber Kernkraftwerke Risikovorsorge einführen immer_wieder neuesten_Stand Forschung Technik orientieren Kategorie maßen geben immer_wieder dynamisch Anforderung reagieren Realität äußern Spezifizierung Sicherheitsanforderungen jed_einzelne Anlage behaupten Sicherheit im_Blick sagen schleichen ergreifen Unwahrheit hoch_Sicherheitsanforderungen geben christlich-liberalen_Koalition Wahrheit zur_Kenntnis_nehmen Meine_Dame Herr nötigen sinnvoll energiepolitischen Frage Antwort bemühen immer_wieder streiten Opposition Regierung Demokratie lebendig Vorsitzende Oppositionsfraktion weiß beachten werfen Regierung persönlich sechs_Monat Verabschiedung Laufzeitenverlängerung wahrscheinlich durchgehen Unwahrheit sagen werfen Täuschung Trickserei Rechtsbruch Wahlkampftaktik Ähnliches meinen_Dame Herr schauen genau Ich_halte hinsichtlich Aufgabe absolut anmessen wesentlich Thema Situation Frage debattieren Welt Lage stellen Meine_Dame Herr Opposition finden Art Weise Argumentation absolut respektlos Verhalten letzt_Tag sehen Niveaulosigkeit zu_überbieten Ich_rate Schließen sagen dauern ander Höchste Sicherheit laufend Kernkraftwerke Engagement erneuerbare_Energie sicher wettbewerbsfähige Energieversorgung Formel christlich-liberalen_Koalition neu energiepolitischen Konsens Gestatten zum_Schluss persönlich Wort wichtig unverzichtbar all Bewertung Lehre Maßnahme Deutschland wichtig unerlässlich Stunde Blick Leidende Japan verlieren schwer prüfen gelten Mitgefühl Zukunft Unterstützung Deutschland zählen Herzliche_Dank\\n',\n",
       " 'Herr_Präsident Meine_Dame Herr Frau_Bundeskanzlerin letzt Rede voll Zustimmung SPD glauben Haus berühren jed Mensch Deutschland Schicksal Mensch Japan ungeheuer Selten Land Friedenszeiten Kette Katastrophe durchleiden Japan Ich_sage Ich_glauben all Mut Tapferkeit Volk lernen Mitgefühl Trauer Entsetzen tief Respekt_gegenüber Haltung Kampf Mensch entwickeln hoffen am_Ende obwohl Hoffnung täglich schwinden gelingen Super-GAU unkontrollierte Austreten ungeheurer Menge Radioaktivität verhindern Frau_Bundeskanzlerin jed Unterstützung deutsch Parlament verdienen japanisch_Regierung Hilfe Unterstützung anbieten denken Verpflichtung Deutschland international Völkergemeinschaft danken ausdrücklich frühzeitig beginnen Voraussetzung schaffen sichern anmessen gegenseitig unterstellen respektlos unanständig benehmen gehören Rede Na_ja Parlament scharf Wort führen gelegentlich überlegen_ob Rede passt vorher sagen Frau_Bundeskanzlerin erleben Atomzeitalters kennzeichnen tiefe_Überzeugung erstens Technik versagen zweitens Mensch versagen vor_alle_Ding Zeitpunkt passieren bitter lernen beid Grundannahmen Atomzeitalters falsch weder funktionieren Technik versagen Mensch Risiko Atomtechnologie erstmals Japan vor_Auge_führen Dutzend Unfall Beinahekatastrophen zuletzt Katastrophe 1979 Harrisburg 1986 Tschernobyl früh Sowjetunion fahren schon_seit_lang vor_Auge GAU Super-GAU rein mathematisch Unwahrscheinlichkeiten reale_Gefahr unendlichem Leid Mensch verbinden berühmte Restrisiko Atomwirtschaft Gläubige atomar Heilslehre Wissenschaft Medium politisch Partei lächerlich vernachlässigbar vorkommen real Katastrophe Million Mensch Japan Beschwichtiger Atomwirtschaft unterwegs Deutschland Europa passieren schließlich Erdbeben Tsunamis sicher Atomkraftwerke Welt Ich_erinnern schwedische Atomkraftwerk Forsmark im_Jahr_2006 gefährlich Lage Notstromversorgung versagen völlig Erdbeben Tsunami deutsch Atomkraftwerksbetreiber fragen sofort jed Prüfung Antwort passieren 19 Atomgesetz geben nämlich ganz_konkrete reale_Gefahr Wechselrichter funktionieren fordern genau erfahren kurz_Zeit kleinlaut zugeben deutsch_Atomkraftwerken technische Problem existieren Meine_Dame Herr Japan Deutschland geben Wasserstoffexplosionen Brunsbüttel Nähe Reaktordruckbehälters geben fehlerhaft Installation Kühlmittelverluste mangelhaft Rohrleitungssysteme Japan wussten Frau_Bundeskanzlerin Großen_Koalition versuchen zwingen alt gefährlich Atommeiler Deutschland laufen lassen Biblis_A Neckarwestheim 1. schriftlich dazu_auffordern Laufzeiten beid Atomkraftwerke verlängern beid stolz_darauf einig ander drei_Monat_vom_Netz nehmen Frau_Bundeskanzlerin Laufzeitverlängerung acht_Jahr Reaktor zustimmen Deal hören zur_Wahrheit Kumpanei_mit Atomwirtschaft Trick gering Ausfahren Kapazität versuchen Gesetz ursprünglich_vorgesehen Laufzeiten überschreiten Reaktor längst vom_Netz Frau_Bundeskanzlerin all abenteuerlich Laufzeitverlängerung Ideologe verleumden Vizekanzler Herr_Westerwelle sagen Kernenergie heraus wörtlich Geisterfahrer bezeichnen Hintergrund verbal Kehrtwende fragen tatsächlich eigentlich Geisterfahrer deutsch Energiepolitik Deutschland Frau_Merkel weiß gar_nicht auffallen vor_einer_halb rot-grüne Beschluss Ausstieg_aus Atomenergie unvertretbar Meinung Atomwirtschaft bedrängen lang_Laufzeiten Deutschland brauchen Beschluss kritisieren schnellen aussteigen Chuzpe SPD Grüner kritisieren angeblich langsam aussteigen Spiel treiben Frau_Dr. Merkel glauben jed Haus Gedächtnis Bundesumweltminister Großen_Koalition vorschlagen angeboten alt_Atomkraftwerke schnell ursprünglich Gesetz vorsehen vom_Netz nehmen Kanzlerin verweigern Zum_Thema Sicherheitspolitik Am_28. Oktober_2010 Mehrheit CDU/CSU FDP Laufzeitverlängerung durchpeitschen Frau_Merkel all warnen sagen bevor generelle Laufzeitverlängerungen beschließen bitte jed normale Mensch nämlich jed_einzelne Atomkraftwerk prüfen_ob aktuell Sicherheitsstandards Stand Wissenschaft Technik entsprechen ablehnen äußer Gefahrenvorsorge Atomkraftwerk Aufgabe Parlament entscheiden längst beschlossen_Sache Bundestag pro_forma Bundesrat beteiligen Herr Atomwirtschaft Hinterzimmer dingfest_machen Bundesumweltministerin Mut Parlament Unwahrheit Anwendung 19 Atomgesetzes sagen einen_stark_Stück jed Gefahr Deal Atomwirtschaft ausschließen Sicherheitsanforderungen 2009 Kraft_setzen Arbeit Kollege_Trittin beginnen abschließen abschaffen gerne Weitergeltung alt Sicherheitsanforderungen Kraft_setzen handeln Kompromiss Ministerpräsidenten CDU CSU sagen überhaupt_kein neu Sicherheitsanforderungen Wahrheit sagen Unsicherheit Atomwirtschaft auftreten lassen alt weitergelten erproben neu Im_Herbst_letzt_Jahr alt völlig abschaffen Bewertung Sicherheitslage deutsch Atomkraftwerke heutig_Stand Wissenschaft Technik vornehm stehen Gesetz Herr Kollege Gröhe Mensch_draußen wissen vorwerfen wissen Seite kerntechnische_Regelwerk modern Sicherheitsanforderungen umfasst Über_1_000 Seite beschreiben Kraftwerksbetreiber Notstromversorgung beschreiben Kühlsystemen beschreiben Sicherheit konkret verbessern abschaffen arbeiten 30_Jahr alt kerntechnischen_Regelwerk Herr_Gröhe reden davon_ausgehen kennen Rechtslage genau 7_d Atomgesetzes Satz Deutschland 1973 geltend_Rechtslage hineingeschrieben Regelwerk 1_000 Seite anwenden Urteil Kalkar einhalten 7_d_Atomgesetz hineingeschrieben Ich_habe gar_nichts_dagegen Atomgesetz stehen vorher all halten Schlimm modern Sicherheitsanforderungen Prüfung Kernkraftwerken außer_Kraft_setzen Atomkraftwerksbetreiber sagen einen_ganze_Reihe von_Atomkraftwerken modern Sicherheitsstandards standhalten Atomkraftwerksbetreiber sagen alt_Meiler Stand Wissenschaft Technik hochgerüstet endgültig vor_Ablauf Restlaufzeiten vom_Netz Milliardengeschäfte Atomwirtschaft schmälern Frau_Bundeskanzlerin unverantwortlich persönlich Sicherheit Geld tauschen sagen geben tabulose Prüfung völlig_veralten Sicherheitsanforderungen 30_Jahr alt tabulose Prüfung beginnen brauchen gar_nicht anfangen setzen als_Allererstes kerntechnische_Regelwerk 2009 Kraft Prüfstein Glaubwürdigkeit Meiler kerntechnischen_Regelwerks vom_Netz_nehmen müssten drei_Monat_vom_Netz nehmen weg mithelfen Sicherheitsmängel Kernkraftwerken vertuschen Sorge belegen aufschreiben Cheflobbyisten deutsch Atomindustrie Herrn_Hennenhöfer ausrechnen Cheflobbyisten Atomwirtschaft ober Aufseher Reaktorsicherheit Deutschland Herr_Hennenhöfer bis_heute Amt Sicherheitsüberprüfung vornehm vorher verhindern Frau_Merkel Funke Glaubwürdigkeit zurückerobern sofort entlassen verlangen Frau_Merkel werfen beugen inzwischen früh Präsident Bundesverfassungsgerichtes sogenannt Moratorium werfen energiepolitische verfassungsrechtlich Frage lesen öffentlich Erklärung Umweltministers 19_Abs. 3 Atomgesetzes anwenden nämlich gemeinsam staatlich_Handeln Absprache Vertrag Gesichtspunkt staatlich Verantwortung Frau_Merkel wissen Rechtsakte aussehen Atomexperten Mappus Baden-Württemberg wissen schizophren Persönlichkeit nämlich Atomlobbyist Atomaufsicht fragen funktionieren Herr_Bundesumweltminister Frau_Merkel fordern Parlament Rechtsakte vorlegen einen_paar_Monat Atomwirtschaft akzeptieren Frau_Merkel historisch Erfolg_erzielen durchsetzen Atomwirtschaft zum_erst_Mal bereiten akzeptieren feststellen Meiler Gefahr Bevölkerung Leib_Leben Gesundheit ausgehen historisch_Ereignis Frau_Merkel 19 Atomgesetz völlig zitieren Handlung Herr_Bundesumweltminister Atomkraftwerksbetreibern entsprechend Anordnung schick Land atomrechtlich weise sehen Atomwirtschaft akzeptieren à_la_bonne_heure Historisches erreichen sagen alt_Reaktor direkt Gefahr ausgehen Atomkraftwerksbetreiber zurückweisen Fall Deal Preis kennen Meine_Dame Herr wissen laufen stellen Öffentlichkeit erzählen Frage glaubwürdig drei_Monat erstens sichern Atomgesetz abschalten im_Rahmen Moratoriums auf_Dauer zweitens Ausstiegsgesetz bis_2020 zurückkehren Laufzeitverlängerungen Brücke Dauereinrichtung mindestens bis_2035 2040. Übergangstechnologie Gesetz irgendwie zweit Deal regeln lassen Parlament Gremium entscheiden Im_Übrigen Frau_Merkel stimmen Energiewende jetzig Haushalt gar_nichts Möglichkeit Energiewende verschlechtern Öffentlichkeit sagen am_Mittwoch Eckpunkte Haushalt beschließen stellen Kanzlerin sagen wolle Energiewende sage Eckpunkten stehen 2010 zur_Förderung_erneuerbarer Energie 700_Million_Euro runtergefahren 100 000-Dächer-Solarstrom-Programm einen_Drittel Gebäudesanierungsprogramm Energieverbrauch Mensch Geld sparen 2,2_Milliarde_Euro 2009 1_Milliarde_Euro kürzen Wahrheit Gestern Verkündigung Energiewende Kabinett Eckpunkte_vorlegen zustimmen Beschluss Frau_Merkel eigentlich verschieben sagen ordentlich Programm lassen Nichts_davon einfach weiß Widerspruch eigentlich erkennen Glaubwürdigkeit Politik weiß zuordnen Mensch Politiker reden leiden enorm Frau_Merkel maßen_an Unseriosität Messlatte Politik Man_können verlassen sagen darauf_verlassen drei_Monat klug Entscheidung drei_Monat zuvor Parlament entscheiden sichern denken Mal Euro-Rettungsschirm mal Mal Steuersenkungen mal Mal Atomenergie mal verlassen Parlament selber entscheiden vertrauen Darum_gehen Deutschland Mehrheit Mehrheit sagen Kollege zeigen worauf hinauswollen Zwischenruf interessant Mehrheit Mehrheit sagen heißen Ausstieg Ich_glauben Wahrheit sagen Ich_sage auf_Dauer Politik versuchen wahltaktisch Angst Mensch umgehen Bevölkerung Deutschland merken Titel Überschrift eigentlich müssten Lüge Frau_Bundeskanzlerin\\n']"
      ]
     },
     "execution_count": 15,
     "metadata": {},
     "output_type": "execute_result"
    }
   ],
   "source": [
    "%%time\n",
    "# long running\n",
    "trigram_speeches_filepath = \"data/tm/trigram_transformed_speeches_all.txt\"\n",
    "if Path(trigram_speeches_filepath).exists():\n",
    "    print(f\"Trigram speeches available at {trigram_speeches_filepath}\")\n",
    "else:\n",
    "    print(f\"Trigram speeches not available. Now creating {trigram_speeches_filepath}\")\n",
    "    with codecs.open(trigram_speeches_filepath, \"w\", encoding=\"utf_8\") as f:\n",
    "        for parsed_speech in gerNLP.pipe(\n",
    "            line_speech(speeches_txt_filepath), batch_size=100, n_process=15\n",
    "        ):\n",
    "\n",
    "            # lemmatize the text, removing punctuation and whitespace\n",
    "            unigram_speech = [\n",
    "                token.lemma_ for token in parsed_speech if not punct_space(token)\n",
    "            ]\n",
    "\n",
    "            # apply the first-order and second-order phrase models\n",
    "            bigram_speech = bigram_model[unigram_speech]\n",
    "            trigram_speech = trigram_model[bigram_speech]\n",
    "\n",
    "            # remove any remaining stopwords\n",
    "            trigram_speech = [\n",
    "                term\n",
    "                for term in trigram_speech\n",
    "                if term.lower() not in spacy.lang.de.STOP_WORDS\n",
    "            ]\n",
    "            # stop words found here: https://github.com/explosion/spaCy/blob/master/spacy/lang/de/stop_words.py\n",
    "\n",
    "            # write the transformed speech as a line in the new file\n",
    "            trigram_speech = \" \".join(trigram_speech)\n",
    "            f.write(trigram_speech + \"\\n\")\n",
    "\n",
    "preview_lines(trigram_speeches_filepath, N=2)"
   ]
  },
  {
   "cell_type": "code",
   "execution_count": 16,
   "id": "029fc6ea",
   "metadata": {},
   "outputs": [
    {
     "name": "stdout",
     "output_type": "stream",
     "text": [
      "\n",
      "File data/tm/trigram_transformed_speeches_all.txt contains 43864 documents\n",
      "\n"
     ]
    }
   ],
   "source": [
    "print(f\"\"\"\n",
    "File {trigram_speeches_filepath} contains {sum(1 for line in open(trigram_speeches_filepath))} documents\n",
    "\"\"\"\n",
    ")"
   ]
  },
  {
   "cell_type": "markdown",
   "id": "429a5005",
   "metadata": {},
   "source": [
    "## Latent Dirichlet Allocation\n",
    "In this section, the text is transformed into a corpus, which is the collection of documents over which topics are discovered using LDA. As a first intermediate step, the speech documents are represented with a dictionary, where n-grams are keys and occurances counts within speech documents are the respective values.\n",
    "\n",
    "The parameters `THRES_BELOW` AND `THRES_ABOVE` define, which keywords can define a topic. `THRES_BELOW` is the minimum number of documents, in which a keyword needs to occur to be able to define a topic. `THRES_ABOVE` is a relative value, it defines the maximum fraction of documents, which may contain a keyword for the keyword to be able to define topics. Accordingly, keywords which are too common, cannot define a topic, and special terminology of a single speech does not, either."
   ]
  },
  {
   "cell_type": "code",
   "execution_count": 17,
   "id": "93f0b2f8",
   "metadata": {},
   "outputs": [
    {
     "name": "stdout",
     "output_type": "stream",
     "text": [
      "Trigram dictionary available at data/tm/trigram_dict_all_TB10_TA005.dict\n"
     ]
    }
   ],
   "source": [
    "THRESH_BELOW = 10\n",
    "THRESH_ABOVE = 0.05\n",
    "thres_suffix = f\"TB{str(THRESH_BELOW)}_TA{str(THRESH_ABOVE)}\".replace(\".\", \"\")\n",
    "trigram_dictionary_filepath = f\"data/tm/trigram_dict_all_{thres_suffix}.dict\"\n",
    "if Path(trigram_dictionary_filepath).exists():\n",
    "    print(f\"Trigram dictionary available at {trigram_dictionary_filepath}\")\n",
    "    trigram_dictionary = Dictionary.load(trigram_dictionary_filepath)\n",
    "else:\n",
    "    print(\n",
    "        f\"Trigram dictionary not available. Now creating {trigram_dictionary_filepath}\"\n",
    "    )\n",
    "\n",
    "    trigram_speeches = LineSentence(trigram_speeches_filepath)\n",
    "\n",
    "    trigram_dictionary = Dictionary(trigram_speeches)\n",
    "\n",
    "    # filter tokens that are very rare or too common from\n",
    "    # the dictionary (filter_extremes) and reassign integer ids (compactify)\n",
    "    trigram_dictionary.filter_extremes(no_below=THRESH_BELOW, no_above=THRESH_ABOVE)\n",
    "    trigram_dictionary.compactify()\n",
    "\n",
    "    trigram_dictionary.save(trigram_dictionary_filepath)"
   ]
  },
  {
   "cell_type": "code",
   "execution_count": 18,
   "id": "ccf4ac7e",
   "metadata": {},
   "outputs": [],
   "source": [
    "def trigram_bow_generator(filepath):\n",
    "    \"\"\"\n",
    "    generator function to read speeches from a file\n",
    "    and yield a bag-of-words representation\n",
    "    \"\"\"\n",
    "\n",
    "    for speech in LineSentence(filepath):\n",
    "        yield trigram_dictionary.doc2bow(speech)"
   ]
  },
  {
   "cell_type": "code",
   "execution_count": 19,
   "id": "f953bb3d",
   "metadata": {},
   "outputs": [
    {
     "name": "stdout",
     "output_type": "stream",
     "text": [
      "Trigram bag-of-words available at data/tm/trigram_bow_corpus_all_TB10_TA005.mm\n"
     ]
    }
   ],
   "source": [
    "trigram_bow_filepath = f\"data/tm/trigram_bow_corpus_all_{thres_suffix}.mm\"\n",
    "if Path(trigram_bow_filepath).exists():\n",
    "    print(f\"Trigram bag-of-words available at {trigram_bow_filepath}\")\n",
    "else:\n",
    "    print(f\"Trigram bag-of-words not available. Now creating {trigram_bow_filepath}\")\n",
    "    # generate bag-of-words representations for\n",
    "    # all speeches and save them as a matrix\n",
    "    MmCorpus.serialize(\n",
    "        trigram_bow_filepath, trigram_bow_generator(trigram_speeches_filepath)\n",
    "    )\n",
    "\n",
    "# load the finished bag-of-words corpus from disk\n",
    "trigram_bow_corpus = MmCorpus(trigram_bow_filepath)"
   ]
  },
  {
   "cell_type": "markdown",
   "id": "54e115e3",
   "metadata": {},
   "source": [
    "## Topic Models & Visuals\n",
    "Latent topics are finally within the corpus are finally derived. \"Latent\" means that topic belongingness may not be obvious at first sight for a document. The output is by no means finite and requires manual review and validation."
   ]
  },
  {
   "cell_type": "code",
   "execution_count": 20,
   "id": "dd2b29b0",
   "metadata": {},
   "outputs": [
    {
     "name": "stdout",
     "output_type": "stream",
     "text": [
      "Trigram bag-of-words available at data/tm/lda_model_TB10_TA005_50\n",
      "LDA Visualization available at data/tm/ldavis_prepared_TB10_TA005_50\n",
      "LDA Visualization available at data/out/lda_viz_TB10_TA005_50.html\n",
      "Trigram bag-of-words available at data/tm/lda_model_TB10_TA005_250\n",
      "LDA Visualization available at data/tm/ldavis_prepared_TB10_TA005_250\n",
      "LDA Visualization available at data/out/lda_viz_TB10_TA005_250.html\n",
      "Trigram bag-of-words available at data/tm/lda_model_TB10_TA005_500\n",
      "LDA Visualization available at data/tm/ldavis_prepared_TB10_TA005_500\n",
      "LDA Visualization available at data/out/lda_viz_TB10_TA005_500.html\n",
      "CPU times: user 130 ms, sys: 304 ms, total: 434 ms\n",
      "Wall time: 808 ms\n"
     ]
    }
   ],
   "source": [
    "%%time\n",
    "# medium-long running\n",
    "topics = [50, 250, 500]\n",
    "for number_of_topics in topics:\n",
    "    # topic model\n",
    "    lda_model_filepath = (\n",
    "        f\"data/tm/lda_model_{thres_suffix}_{str(number_of_topics)}\"\n",
    "    )\n",
    "    if Path(lda_model_filepath).exists():\n",
    "        print(f\"Trigram bag-of-words available at {lda_model_filepath}\")\n",
    "        # load the finished LDA model from disk\n",
    "        lda = LdaMulticore.load(lda_model_filepath)\n",
    "    else:\n",
    "        print(f\"Trigram bag-of-words not available. Now creating {lda_model_filepath}\")\n",
    "\n",
    "        lda = LdaMulticore(\n",
    "            trigram_bow_corpus,\n",
    "            num_topics=number_of_topics,\n",
    "            id2word=trigram_dictionary,\n",
    "            workers=8,\n",
    "        )\n",
    "        lda.save(lda_model_filepath)\n",
    "\n",
    "    # topic model visual\n",
    "    LDAvis_data_filepath = (\n",
    "        f\"data/tm/ldavis_prepared_{thres_suffix}_{str(number_of_topics)}\"\n",
    "    )\n",
    "    if Path(LDAvis_data_filepath).exists():\n",
    "        print(f\"LDA Visualization available at {LDAvis_data_filepath}\")\n",
    "        with open(LDAvis_data_filepath, \"rb\") as f:\n",
    "            LDAvis_prepared = pickle.load(f)\n",
    "    else:\n",
    "        print(f\"LDA visualization not available. Now creating {LDAvis_data_filepath}\")\n",
    "        LDAvis_prepared = pyLDAvis.gensim_models.prepare(\n",
    "            lda, trigram_bow_corpus, trigram_dictionary\n",
    "        )\n",
    "\n",
    "        with open(LDAvis_data_filepath, \"wb\") as f:\n",
    "            pickle.dump(LDAvis_prepared, f)\n",
    "\n",
    "    # topic model html visual\n",
    "    LDAvis_html_filepath = (\n",
    "        f\"data/out/lda_viz_{thres_suffix}_{str(number_of_topics)}.html\"\n",
    "    )\n",
    "    if Path(LDAvis_html_filepath).exists():\n",
    "        print(f\"LDA Visualization available at {LDAvis_html_filepath}\")\n",
    "    else:\n",
    "        print(\n",
    "            f\"LDA html visualization not available. Now creating {LDAvis_html_filepath}\"\n",
    "        )\n",
    "        pyLDAvis.save_html(LDAvis_prepared, LDAvis_html_filepath)"
   ]
  },
  {
   "cell_type": "markdown",
   "id": "3697aee0",
   "metadata": {},
   "source": [
    "## Single Model Review"
   ]
  },
  {
   "cell_type": "code",
   "execution_count": 21,
   "id": "e1c330d6",
   "metadata": {},
   "outputs": [
    {
     "name": "stdout",
     "output_type": "stream",
     "text": [
      "Model in use: data/tm/ldavis_prepared_TB10_TA005_250\n"
     ]
    }
   ],
   "source": [
    "DEFAULT_NO_TOPICS = 250\n",
    "DEFAULT_THRESHS = \"TB{}_TA{}\".format(str(THRESH_BELOW), str(THRESH_ABOVE).replace(\".\",\"\"))\n",
    "lda_model_filepath = (\n",
    "    f\"data/tm/lda_model_{DEFAULT_THRESHS}_{str(DEFAULT_NO_TOPICS)}\"\n",
    ")\n",
    "# load the finished LDA model from disk\n",
    "lda = LdaMulticore.load(lda_model_filepath)\n",
    "LDAvis_data_filepath = (\n",
    "    f\"data/tm/ldavis_prepared_{thres_suffix}_{str(DEFAULT_NO_TOPICS)}\"\n",
    ")\n",
    "with open(LDAvis_data_filepath, \"rb\") as f:\n",
    "    LDAvis_prepared = pickle.load(f)\n",
    "print(f\"Model in use: {LDAvis_data_filepath}\")"
   ]
  },
  {
   "cell_type": "markdown",
   "id": "da2c2454",
   "metadata": {},
   "source": [
    "In verbose mode, the next cell displays a visualization of topic models, disabling the Jupyter menu bar. Delete the output to see the menu bar again."
   ]
  },
  {
   "cell_type": "code",
   "execution_count": 22,
   "id": "a43f357e",
   "metadata": {},
   "outputs": [],
   "source": [
    "if VERBOSE:\n",
    "    pyLDAvis.display(LDAvis_prepared)"
   ]
  },
  {
   "cell_type": "markdown",
   "id": "4aba04f1",
   "metadata": {},
   "source": [
    "View the notebook [here](https://nbviewer.jupyter.org/github/sebas-seck/bundestag_nlp/blob/main/nb_03_topic_modelling.ipynb#topic=0&lambda=1&term=) with Jupyter's nbviewer as the interactive visualizations are not rendered with the static display of notebooks on Github. Alternatively, paste the link to the notebook on Github [here](https://nbviewer.jupyter.org/).\n",
    "\n",
    "The definition of the number of latent topics to uncover has no set definition. Given the unsupervised nature of Topic modeling, I expect numbers of varying magnitude to result in differing broadness of topics."
   ]
  },
  {
   "cell_type": "code",
   "execution_count": 23,
   "id": "336891d5",
   "metadata": {},
   "outputs": [],
   "source": [
    "def lda_description(review_text, min_topic_freq=0.05):\n",
    "    \"\"\"\n",
    "    accept the original text of a review and (1) parse it with spaCy,\n",
    "    (2) apply text pre-proccessing steps, (3) create a bag-of-words\n",
    "    representation, (4) create an LDA representation, and\n",
    "    (5) print a sorted list of the top topics in the LDA representation\n",
    "    \"\"\"\n",
    "\n",
    "    # parse the review text with spaCy\n",
    "    parsed_review = gerNLP(review_text)\n",
    "\n",
    "    # lemmatize the text and remove punctuation and whitespace\n",
    "    unigram_review = [token.lemma_ for token in parsed_review if not punct_space(token)]\n",
    "\n",
    "    # apply the first-order and secord-order phrase models\n",
    "    bigram_review = bigram_model[unigram_review]\n",
    "    trigram_review = trigram_model[bigram_review]\n",
    "\n",
    "    # remove any remaining stopwords\n",
    "    trigram_review = [\n",
    "        term for term in trigram_review if not term in spacy.lang.de.STOP_WORDS\n",
    "    ]\n",
    "\n",
    "    # create a bag-of-words representation\n",
    "    review_bow = trigram_dictionary.doc2bow(trigram_review)\n",
    "\n",
    "    # create an LDA representation\n",
    "    review_lda = lda[review_bow]\n",
    "\n",
    "    # sort with the most highly related topics first\n",
    "    review_lda = sorted(review_lda, key=lambda topic_number_freq: -topic_number_freq[1])\n",
    "\n",
    "    for topic_number, freq in review_lda:\n",
    "        if freq < min_topic_freq:\n",
    "            break\n",
    "\n",
    "        # print the most highly related topic names and frequencies\n",
    "        print(\"{:25} {}\".format(topic_number, round(freq, 3)))"
   ]
  },
  {
   "cell_type": "markdown",
   "id": "7495c028",
   "metadata": {},
   "source": [
    "## Speech Review"
   ]
  },
  {
   "cell_type": "code",
   "execution_count": 24,
   "id": "81ece0c1",
   "metadata": {},
   "outputs": [],
   "source": [
    "review_text1 = \"\"\"Herr Minister, möglicherweise ist das ein Anlass, um über andere Strukturen nachzudenken. Im Land Brandenburg, aus dem ich komme,\n",
    "    gibt es im Süden einen Bestand von 60 000 Schweinen an einem Standort. Stellen wir uns vor, dass dieser Standort wegen der Afrikanischen\n",
    "    Schweinepest auf einmal in einer Restriktionszone liegt. Dann werden wir wahrscheinlich nicht umhinkommen, den gesamten Bestand zu töten.\n",
    "    Ist es nicht an der Zeit, einmal ernsthaft darüber nachzudenken, ob solche Megaställe nicht der Vergangenheit angehören sollten und ob unter\n",
    "    Aspekten der Tierseuchenbekämpfung nicht Regionen mit sehr dichtem Tierbestand als auch solche riesengroßen Bestände vermieden werden sollten?\n",
    "    Das ist einfach sehr schwierig in einer Tierseuchensituation zu händeln. Ich glaube zudem, dass die in Rede stehenden Maßnahmen ethisch nicht\n",
    "    mehr vertretbar sind. Deswegen lautet meine Frage: Müssen wir nicht auch über Strukturen bei den Tierbeständen nachdenken?\"\"\"\n",
    "\n",
    "review_text2 = \"\"\"Vielen Dank, Herr Präsident. – Herr Kollege Kekeritz, gestern fand eine informelle Tagung der Entwicklungsminister der\n",
    "    Europäischen Union statt. Auf der Tagesordnung stand unter anderem der mehrjährige Finanzrahmen der Europäischen Union. Die Kommission bereitet\n",
    "    die Debatte vor. Das Europäische Parlament wie auch der Ministerrat in allen seinen Formationen wird sich zu der Frage positionieren müssen,\n",
    "    wie der Haushalt der Europäischen Union im Zeitrahmen des nächsten mehrjährigen Finanzrahmens aufzustellen ist. In diesem Zusammenhang hat\n",
    "    Entwicklungsminister Dr. Gerd Müller dazu aufgerufen, die internationalen Aufgaben der Europäischen Union, insbesondere mit Blick auf Afrika,\n",
    "    deutlich zu stärken.\"\"\"\n",
    "\n",
    "review_text3 = \"\"\"Welche konkreten rechtlichen Überlegungen haben die Ostbeauftragte Iris Gleicke und das Bundeswirtschaftsministerium dazu\n",
    "    veranlasst, für eine Studie des Göttinger Instituts für Demokratieforschung zum Thema 'Rechtsextremismus und Fremdenfeindlichkeit in\n",
    "    Ostdeutschland', die nach eigenen Angaben von Iris Gleicke selbst nach Nacherfüllungsmöglichkeit eine 'schlicht nicht hinnehmbare Schlamperei'\n",
    "    darstellt, von der sie sich öffentlich distanziert hat und die für sie 'jeden Wert ... verloren' hatte, nicht nur die Rückforderung von\n",
    "    bereits ausgezahlten Geldern zu unterlassen, sondern auch noch zu einem Zeitpunkt, als die Unbrauchbarkeit der Studie bereits bekannt war,\n",
    "    einen bis dahin noch nicht ausgezahlten Betrag hierfür zu zahlen, wie unter anderem die Zeitung 'Die Welt' am 12. Februar 2018 berichtet hat,\n",
    "    und wie hoch war der Betrag, der erst nach Bekanntwerden der Mangelhaftigkeit der Studie an das Göttinger Institut für Demokratieforschung bzw.\n",
    "    die Georg-August-Universität Göttingen ausgezahlt wurde?\"\"\""
   ]
  },
  {
   "cell_type": "code",
   "execution_count": 25,
   "id": "cca45387",
   "metadata": {},
   "outputs": [
    {
     "name": "stdout",
     "output_type": "stream",
     "text": [
      "                      160 0.3619999885559082\n",
      "                       68 0.31299999356269836\n",
      "                      176 0.23899999260902405\n",
      "                      145 0.0560000017285347\n"
     ]
    }
   ],
   "source": [
    "lda_description(review_text1)"
   ]
  },
  {
   "cell_type": "code",
   "execution_count": 26,
   "id": "15d71dde",
   "metadata": {},
   "outputs": [
    {
     "name": "stdout",
     "output_type": "stream",
     "text": [
      "                      101 0.5230000019073486\n",
      "                       58 0.15000000596046448\n",
      "                       17 0.13300000131130219\n",
      "                      170 0.0860000029206276\n",
      "                       41 0.07400000095367432\n"
     ]
    }
   ],
   "source": [
    "lda_description(review_text2)"
   ]
  },
  {
   "cell_type": "code",
   "execution_count": 27,
   "id": "5ac1574e",
   "metadata": {},
   "outputs": [
    {
     "name": "stdout",
     "output_type": "stream",
     "text": [
      "                       46 0.22499999403953552\n",
      "                       24 0.20200000703334808\n",
      "                       39 0.15199999511241913\n",
      "                      209 0.12200000137090683\n",
      "                       16 0.11299999803304672\n",
      "                       27 0.1080000028014183\n",
      "                      115 0.05400000140070915\n"
     ]
    }
   ],
   "source": [
    "lda_description(review_text3)"
   ]
  },
  {
   "cell_type": "markdown",
   "id": "b02440f6",
   "metadata": {},
   "source": [
    "## Energy Politics Topics"
   ]
  },
  {
   "cell_type": "markdown",
   "id": "2123f865",
   "metadata": {},
   "source": [
    "Which keywords make up the energy politics topic? Looking at a few speeches from three plenary debates, topics can be identified which can be reviewed manually for further, relevant terms to handcraft topic models later.\n",
    "\n",
    "- [17/96](https://dip21.bundestag.de/dip21/btp/17/17096.pdf): March 17th 2011, second meeting after the catastrophe, first technical debates about nuclear power\n",
    "- [17/117](https://dip21.bundestag.de/dip21/btp/17/17117.pdf): Discussions on changing the Atomic Energy Act\n",
    "- [17/229](https://dip21.bundestag.de/dip21/btp/17/17229.pdf): March 15th 2013, shortly after the second anniversary of the catastrophe"
   ]
  },
  {
   "cell_type": "code",
   "execution_count": 36,
   "id": "df9dd637",
   "metadata": {},
   "outputs": [],
   "source": [
    "speeches = {\n",
    "    11636: \"Angela Merkel\",\n",
    "    14197: \"Norbert Rötgen\",\n",
    "    14198: \"Sigmar Gabriel\",\n",
    "    14199: \"Philipp Rösler\",\n",
    "    14200: \"Gregor Gysi\",\n",
    "    29594: \"Jürgen Trittin\",\n",
    "    29595: \"Christian Hirte\",\n",
    "    29596: \"Marco Bülow\",\n",
    "}"
   ]
  },
  {
   "cell_type": "code",
   "execution_count": 37,
   "id": "aec281e1",
   "metadata": {},
   "outputs": [],
   "source": [
    "with open(speeches_txt_filepath) as f:\n",
    "    d = f.readlines()"
   ]
  },
  {
   "cell_type": "code",
   "execution_count": 38,
   "id": "35517add",
   "metadata": {},
   "outputs": [
    {
     "name": "stdout",
     "output_type": "stream",
     "text": [
      "Angela Merkel\n",
      "                       45 0.24300000071525574\n",
      "                      189 0.13699999451637268\n",
      "                      213 0.11400000005960464\n",
      "                      199 0.1120000034570694\n",
      "                       39 0.07000000029802322\n",
      "                      173 0.06800000369548798\n",
      "                      247 0.05700000002980232\n",
      "None\n",
      "Norbert Rötgen\n",
      "                      173 0.2370000034570694\n",
      "                       69 0.14900000393390656\n",
      "                      246 0.10400000214576721\n",
      "                       45 0.0729999989271164\n",
      "                      227 0.06700000166893005\n",
      "                       79 0.05700000002980232\n",
      "                      112 0.050999999046325684\n",
      "None\n",
      "Sigmar Gabriel\n",
      "                       45 0.16300000250339508\n",
      "                      111 0.12200000137090683\n",
      "                      244 0.10100000351667404\n",
      "                      235 0.08699999749660492\n",
      "                      216 0.08100000023841858\n",
      "None\n",
      "Philipp Rösler\n",
      "                      111 0.21899999678134918\n",
      "                      157 0.14100000262260437\n",
      "                      227 0.10100000351667404\n",
      "                      173 0.09000000357627869\n",
      "                      229 0.07900000363588333\n",
      "                      219 0.07599999755620956\n",
      "                       86 0.061000000685453415\n",
      "                      225 0.052000001072883606\n",
      "None\n",
      "Gregor Gysi\n",
      "                       91 0.1979999989271164\n",
      "                      128 0.1289999932050705\n",
      "                      209 0.10000000149011612\n",
      "                      224 0.09600000083446503\n",
      "                      216 0.07599999755620956\n",
      "                      184 0.06499999761581421\n",
      "                       83 0.0560000017285347\n",
      "                      227 0.052000001072883606\n",
      "                      234 0.052000001072883606\n",
      "None\n",
      "Jürgen Trittin\n",
      "                      230 0.2329999953508377\n",
      "                      227 0.16099999845027924\n",
      "                       45 0.13600000739097595\n",
      "                      111 0.12600000202655792\n",
      "                       58 0.0689999982714653\n",
      "                       69 0.05999999865889549\n",
      "                      173 0.05299999937415123\n",
      "                       22 0.052000001072883606\n",
      "None\n",
      "Christian Hirte\n",
      "                       56 0.39899998903274536\n",
      "                       45 0.10199999809265137\n",
      "                      213 0.09399999678134918\n",
      "                      173 0.08699999749660492\n",
      "                      111 0.08399999886751175\n",
      "                      162 0.06199999898672104\n",
      "None\n",
      "Marco Bülow\n",
      "                       45 0.22100000083446503\n",
      "                      100 0.1509999930858612\n",
      "                       58 0.11400000005960464\n",
      "                       67 0.10199999809265137\n",
      "                      111 0.0989999994635582\n",
      "                       30 0.09200000017881393\n",
      "None\n"
     ]
    }
   ],
   "source": [
    "for k, v in speeches.items():\n",
    "    print(v)\n",
    "    text = d[k-1]\n",
    "    print(lda_description(text))"
   ]
  },
  {
   "cell_type": "code",
   "execution_count": null,
   "id": "fd2b109c",
   "metadata": {},
   "outputs": [],
   "source": []
  }
 ],
 "metadata": {
  "jupytext": {
   "encoding": "# -*- coding: utf-8 -*-",
   "formats": "ipynb,py:percent"
  },
  "kernelspec": {
   "display_name": "Python 3",
   "language": "python",
   "name": "python3"
  },
  "language_info": {
   "codemirror_mode": {
    "name": "ipython",
    "version": 3
   },
   "file_extension": ".py",
   "mimetype": "text/x-python",
   "name": "python",
   "nbconvert_exporter": "python",
   "pygments_lexer": "ipython3",
   "version": "3.8.8"
  }
 },
 "nbformat": 4,
 "nbformat_minor": 5
}
