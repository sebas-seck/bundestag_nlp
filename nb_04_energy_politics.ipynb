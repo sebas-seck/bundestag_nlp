{
 "cells": [
  {
   "cell_type": "markdown",
   "id": "d3ebd843",
   "metadata": {},
   "source": [
    "# External Shock on Energy Politics"
   ]
  },
  {
   "cell_type": "code",
   "execution_count": 35,
   "id": "595b8846-15bd-48cd-b812-e04bc8973a15",
   "metadata": {},
   "outputs": [],
   "source": [
    "import time\n",
    "from math import log\n",
    "\n",
    "import numpy as np\n",
    "import pandas as pd\n",
    "import spacy\n",
    "import stylecloud\n",
    "\n",
    "from src.keywords import (ANTI_NUCLEAR, CONSERVATIVE_ENERGY, NEUTRAL_ENERGY,\n",
    "                          PRO_NUCLEAR)"
   ]
  },
  {
   "cell_type": "markdown",
   "id": "5e3feccf",
   "metadata": {},
   "source": [
    "## Energy Politics Keywords\n",
    "The keyword lists from `src/keywords.py` are handcrafted with the help of the topic models in notebook 03. Assignment to a category is guided by these questions:\n",
    "\n",
    "- Is <keyword> helping to leave nuclear energy (in a sustainable manner)? If yes, the topic is **anti nulcear**.\n",
    "- Is <keyword> helping to keep nuclear energy? If yes, the topic is **pro nuclear**.\n",
    "- Is <keyword> associated with conservative energy and does not fit into the above categories? If yes, the topic is **conservative energy**.\n",
    "- Is <keyword> directly associated with energy politics but does not fit into the above categories? If yes, the topic is **neutral energy**.\n",
    "\n",
    "### Stylecloud with keywords\n",
    "\n",
    "\n",
    "text = \" \".join(ANTI_NUCLEAR + CONSERVATIVE_ENERGY + NEUTRAL_ENERGY + PRO_NUCLEAR)\n",
    "stylecloud.gen_stylecloud(\n",
    "    text=text,\n",
    "    icon_name=\"fas fa-atom\",\n",
    "    palette=\"colorbrewer.qualitative.Dark2_8\",\n",
    "    background_color=\"black\",\n",
    "    gradient=\"horizontal\",\n",
    "    output_name=\"docs/atom.png\",\n",
    ")"
   ]
  },
  {
   "cell_type": "markdown",
   "id": "f531177e",
   "metadata": {},
   "source": [
    "![atom wordcloud](docs/atom.png)"
   ]
  },
  {
   "cell_type": "code",
   "execution_count": 3,
   "id": "67376176",
   "metadata": {},
   "outputs": [],
   "source": [
    "# Organizes all topic models in a list of lists\n",
    "TOPICS = [ANTI_NUCLEAR, PRO_NUCLEAR, NEUTRAL_ENERGY, CONSERVATIVE_ENERGY]"
   ]
  },
  {
   "cell_type": "markdown",
   "id": "48aa59c0-1aa7-4330-81aa-09c208db87f6",
   "metadata": {},
   "source": [
    "### Dataframe Preparation\n",
    "- filter out all speeches not related to energy politics\n",
    "- create a dummy variable whether a speech was given before or after the external shock"
   ]
  },
  {
   "cell_type": "code",
   "execution_count": 4,
   "id": "f0616aad",
   "metadata": {},
   "outputs": [],
   "source": [
    "gerNLP = spacy.load(\"de_core_news_lg\")"
   ]
  },
  {
   "cell_type": "code",
   "execution_count": 5,
   "id": "80c227cb",
   "metadata": {},
   "outputs": [],
   "source": [
    "df = pd.read_pickle(\"data/plpr.pkl\")"
   ]
  },
  {
   "cell_type": "code",
   "execution_count": 6,
   "id": "28746efe",
   "metadata": {},
   "outputs": [],
   "source": [
    "def topics_extension(topic):\n",
    "    \"\"\"Extends topic models by lemmatized values of existing content\"\"\"\n",
    "    for i in range(0, len(topic)):\n",
    "        doc = gerNLP(topic[i])  # creates the spaCy document per word\n",
    "        if (\n",
    "            doc != doc[0].lemma_\n",
    "        ):  # states condition: lemma has to differ from existing item value\n",
    "            topic.extend(\n",
    "                [doc[0].lemma_]\n",
    "            )  # adds the lemmatized value to the respective topic model list"
   ]
  },
  {
   "cell_type": "code",
   "execution_count": 7,
   "id": "07472325",
   "metadata": {},
   "outputs": [],
   "source": [
    "# applies topic extension\n",
    "for i in range(0, len(TOPICS)):\n",
    "    topics_extension(TOPICS[i])"
   ]
  },
  {
   "cell_type": "code",
   "execution_count": 8,
   "id": "74f03ba4",
   "metadata": {},
   "outputs": [],
   "source": [
    "ALL_KEYWORDS = ANTI_NUCLEAR + PRO_NUCLEAR + NEUTRAL_ENERGY + CONSERVATIVE_ENERGY"
   ]
  },
  {
   "cell_type": "code",
   "execution_count": 9,
   "id": "b399964b",
   "metadata": {},
   "outputs": [
    {
     "data": {
      "text/plain": [
       "(42304, 12)"
      ]
     },
     "execution_count": 9,
     "metadata": {},
     "output_type": "execute_result"
    }
   ],
   "source": [
    "df.shape"
   ]
  },
  {
   "cell_type": "code",
   "execution_count": 10,
   "id": "4242f4ea",
   "metadata": {},
   "outputs": [],
   "source": [
    "# If executable, this filters all speeches and keeps only those which include at least one word from the hardcoded keywords later in the notebook\n",
    "df = df[df[\"text\"].str.contains(\"|\".join(ALL_KEYWORDS))]\n",
    "df = df.reset_index(drop=True)"
   ]
  },
  {
   "cell_type": "code",
   "execution_count": 11,
   "id": "0027bb43",
   "metadata": {},
   "outputs": [
    {
     "data": {
      "text/plain": [
       "(5646, 12)"
      ]
     },
     "execution_count": 11,
     "metadata": {},
     "output_type": "execute_result"
    }
   ],
   "source": [
    "df.shape"
   ]
  },
  {
   "cell_type": "markdown",
   "id": "b2492364-4f42-4d0a-b343-6e24761667bb",
   "metadata": {},
   "source": [
    "The column *after_shock* is a dummy variable to indicate whether a speech fragment is part of a plenary meeting before the catastrophy in Fukushima or thereafter. The inflection point is between the plenary meetings 97 and 98 during the 17th legislative period."
   ]
  },
  {
   "cell_type": "code",
   "execution_count": 12,
   "id": "10249014",
   "metadata": {},
   "outputs": [],
   "source": [
    "df[\"after_shock\"] = np.where((df[\"sitzung\"] <= 97) & (df[\"wahlperiode\"] <= 17), 0, 1)"
   ]
  },
  {
   "cell_type": "markdown",
   "id": "f5f472e3",
   "metadata": {},
   "source": [
    "### Opinion Analysis Algorithm\n",
    "\n",
    "The class `OpinionAnalyzer()` implements\n",
    "\n",
    "- columns to store keywords and their sentiments as well as numeric scores\n",
    "- counters to track occurances of cases\n",
    "- method `calc_scores` takes a list of words and a list of associated negations and returns a total sentiment score of the list and a list documenting the score calculation"
   ]
  },
  {
   "cell_type": "markdown",
   "id": "84f9b2b3",
   "metadata": {},
   "source": [
    "## Algorithm Execution"
   ]
  },
  {
   "cell_type": "code",
   "execution_count": 13,
   "id": "814f0989-9c87-4d9b-8c50-3eb485fb75a1",
   "metadata": {},
   "outputs": [],
   "source": [
    "from src.opinion_logic import OpinionAnalyzer"
   ]
  },
  {
   "cell_type": "code",
   "execution_count": 14,
   "id": "049a6b4e-a646-4e67-9720-857a9966c03d",
   "metadata": {},
   "outputs": [
    {
     "data": {
      "text/plain": [
       "\"The algorithm processing duration was 15.3 minutes.\\n23424 occurances of keywords were identified\\n49122 words within keywords' subtrees were checked.\\n93714 words within keywords' ancestors were checked.\\n8515 keywords were used in statements attributed to somebody else by the speaker.\\n2315 keywords descriptions were negated.\\n138060 descriptions of keywords were neutral.\\n1440 descriptions of keywords were negative.\\n3336 descriptions of keywords were positive.\""
      ]
     },
     "execution_count": 14,
     "metadata": {},
     "output_type": "execute_result"
    }
   ],
   "source": [
    "opinion = OpinionAnalyzer(df)\n",
    "df = opinion.main()\n",
    "opinion.protocol"
   ]
  },
  {
   "cell_type": "markdown",
   "id": "9ef15821",
   "metadata": {},
   "source": [
    "### Score Splitting at Inflection Point\n",
    "As it is essential to compare opinions before and after the external shock, both values extracted from the calculated scores in the various categories in conjunction with the dummy variable *after_shock*, which is 0 for pre-shock and 1 for after-shock speech fragments. <br>\n",
    "To do so, pre-shock and after-shock columns for each category are created (i.e. *NE_sp*, *PN_sa*). These are children to the main category score columns (i.e. *NE_s*, *PN_s*). Initially, the children columns take on the same value as the parents. Then, the values are adjusted to 0 if the *after_shock* variable value (0 or 1) does not match with the children score column suffices (pre or after). Accordingly, for all rows with a *after_shock* value of 1, the pre score will be reset to 0."
   ]
  },
  {
   "cell_type": "code",
   "execution_count": 15,
   "id": "381961d4",
   "metadata": {},
   "outputs": [],
   "source": [
    "# Sets all children score columns to equal the parents' values\n",
    "df[\"AN_sp\"] = df[\"AN_s\"]\n",
    "df[\"AN_sa\"] = df[\"AN_s\"]\n",
    "\n",
    "df[\"PN_sp\"] = df[\"PN_s\"]\n",
    "df[\"PN_sa\"] = df[\"PN_s\"]\n",
    "\n",
    "df[\"NE_sp\"] = df[\"NE_s\"]\n",
    "df[\"NE_sa\"] = df[\"NE_s\"]\n",
    "\n",
    "df[\"CE_sp\"] = df[\"CE_s\"]\n",
    "df[\"CE_sa\"] = df[\"CE_s\"]"
   ]
  },
  {
   "cell_type": "code",
   "execution_count": 16,
   "id": "2a1ff0a7",
   "metadata": {},
   "outputs": [],
   "source": [
    "# Adjusts children score columns for their after_shock values\n",
    "df.loc[df.after_shock == 1, [\"AN_sp\", \"PN_sp\", \"NE_sp\", \"CE_sp\"]] = 0\n",
    "df.loc[df.after_shock == 0, [\"AN_sa\", \"PN_sa\", \"NE_sa\", \"CE_sa\"]] = 0"
   ]
  },
  {
   "cell_type": "markdown",
   "id": "53378def",
   "metadata": {},
   "source": [
    "### Score Calculation\n",
    "The main score is calculated using three of the four keyword lists. The score is designed to be positive to reflect progressiveness. Therefore, anti-nuclear energy opinions are added, pro-nuclear energy opinions are substracted, and conservative energy politics opinions are substracted as well, as those do not reflect the turnaround performed by politics. Solely opinions about energy politics which do not fall into any of the other three categories are not included in the score but are kept for reference."
   ]
  },
  {
   "cell_type": "code",
   "execution_count": 17,
   "id": "4aae7766",
   "metadata": {},
   "outputs": [],
   "source": [
    "df[\"score\"] = df[\"AN_s\"] - df[\"PN_s\"] - df[\"CE_s\"]\n",
    "df[\"score_p\"] = df[\"AN_sp\"] - df[\"PN_sp\"] - df[\"CE_sp\"]\n",
    "df[\"score_a\"] = df[\"AN_sa\"] - df[\"PN_sa\"] - df[\"CE_sa\"]"
   ]
  },
  {
   "cell_type": "markdown",
   "id": "5c3e9225",
   "metadata": {},
   "source": [
    "### Delay Weight\n",
    "#### Weight Calculation\n",
    "The delay weight assigns a value between $1$ and $\\log_{log\\_base}(\\infty)$ to each row. Later, the score will be divided by the weight to calculate the tenacity. The later a speech was given after the external shock, the less impact its score has. The delay weight will be useful in the calculation of the measure of tenacity.\n",
    "<br>\n",
    "The column *delay* is supposed to indicate how many sessions after the external shock a speech has been given. Values for speeches given before the external shock will be overwritten in the end as they are negative and will all be set to the same value."
   ]
  },
  {
   "cell_type": "code",
   "execution_count": 18,
   "id": "8b54a383",
   "metadata": {},
   "outputs": [],
   "source": [
    "# initializes the delay column to be similar to the running session number\n",
    "df[\"delay\"] = df[\"sitzung\"]\n",
    "# the auxiliary column stores an adjustment value which will be added to delay\n",
    "# for speeches given in legislative period 17, 94 is substracted as the external shock took place inbetween the plenary meetings 94 and 95\n",
    "df.loc[df.wahlperiode == 17, \"aux_delay\"] = -94\n",
    "# for speeches given in legislative period 18, 159 is added as the external shock took place 159 plenary meetings before the first meeting in legislative period 18\n",
    "df.loc[df.wahlperiode == 18, \"aux_delay\"] = 253 - 94\n",
    "# the new variable reflects the adjustments from the chunk above\n",
    "df[\"aux_delay_weight\"] = df[\"delay\"] + df[\"aux_delay\"]\n",
    "# sets the variable log_base\n",
    "log_base = 3"
   ]
  },
  {
   "cell_type": "markdown",
   "id": "59d47e2e",
   "metadata": {},
   "source": [
    "The *log_base* variable is an important argument to the delay weight. Instead of using the delay in number of sessions to punish late speeches / opinion changes, I am choosing to apply a non-linear scale which does not completely invalidate late speeches. Further, it even promotes (attaches more weight to a speech compared to speeches given before the external shock) early speeches just after the external shock up to the point where $aux\\_delay\\_weight = log\\_base$. Thus, choosing $log\\_base = 3$ would\n",
    "\n",
    "As I do not want to punish any speech given before the external shock, the  auxiliary variable *aux_delay_weight* is set to equal the *log_base* value for all speeches before the shock."
   ]
  },
  {
   "cell_type": "code",
   "execution_count": 19,
   "id": "bda0959f",
   "metadata": {},
   "outputs": [],
   "source": [
    "df.loc[df.after_shock == 0, \"aux_delay_weight\"] = log_base"
   ]
  },
  {
   "cell_type": "markdown",
   "id": "6af66db4",
   "metadata": {},
   "source": [
    "In the next chunk, the non-linear weighting value is completed. As all speeches before the shock have an *aux_delay_weight* equal to *log_base*, the final weight *delay_weight* will be $log_{log\\_base}(log\\_base) = 1$.\n",
    "Accordingly, more importance is attached to speeches in the first two plenary meetings after the external shock. A weight of 1 would be attached to all plenary meetings before the external shock and plenary meeting 3 after the shock. All plenary meetings after number 3 would receive a slowly decreasing importance. For example, meeting 200 after the shock would receive a weight of $\\frac{1}{log_3 200}=\\frac{1}{4.8}$ - the opinions voiced at that time are roughly a fifth as important as an opinion voiced in plenary meeting 3 after the shock."
   ]
  },
  {
   "cell_type": "code",
   "execution_count": 20,
   "id": "5022b4db",
   "metadata": {},
   "outputs": [],
   "source": [
    "df[\"delay_weight\"] = df[\"aux_delay_weight\"].apply(lambda x: log(x, log_base))"
   ]
  },
  {
   "cell_type": "markdown",
   "id": "fce404ca",
   "metadata": {},
   "source": [
    "Lastly, all auxialilary columns no longer needed can be removed."
   ]
  },
  {
   "cell_type": "code",
   "execution_count": 21,
   "id": "c65a0907",
   "metadata": {},
   "outputs": [],
   "source": [
    "del df[\"delay\"]\n",
    "del df[\"aux_delay\"]\n",
    "del df[\"aux_delay_weight\"]"
   ]
  },
  {
   "cell_type": "markdown",
   "id": "07cf7e43",
   "metadata": {},
   "source": [
    "#### Application of Delay Weights"
   ]
  },
  {
   "cell_type": "code",
   "execution_count": 22,
   "id": "abe69a6f",
   "metadata": {},
   "outputs": [],
   "source": [
    "df[\"w_score\"] = df[\"score\"] / df[\"delay_weight\"]\n",
    "df[\"w_score_p\"] = df[\"score_p\"] / df[\"delay_weight\"]\n",
    "df[\"w_score_a\"] = df[\"score_a\"] / df[\"delay_weight\"]"
   ]
  },
  {
   "cell_type": "markdown",
   "id": "e67ab66e",
   "metadata": {},
   "source": [
    "### Review of Preliminary Results\n",
    "The next chunk returns a sample of rows with strong positive and negative scores. These speech fragments are examples of extremely strong opinions towards nuclear energy politics being voiced in parliament."
   ]
  },
  {
   "cell_type": "code",
   "execution_count": 23,
   "id": "fe5635bf",
   "metadata": {},
   "outputs": [
    {
     "name": "stdout",
     "output_type": "stream",
     "text": [
      "         PN_s   PN_sp   PN_sa    AN_s   AN_sp   AN_sa    CE_s   CE_sp   CE_sa  \\\n",
      "count 5646.00 5646.00 5646.00 5646.00 5646.00 5646.00 5646.00 5646.00 5646.00   \n",
      "mean     0.02    0.01    0.01    0.07    0.01    0.06    0.01    0.00    0.00   \n",
      "std      0.38    0.29    0.25    0.51    0.18    0.48    0.17    0.11    0.13   \n",
      "min     -4.00   -4.00   -3.50   -4.30   -4.00   -4.30   -2.00   -2.00   -2.00   \n",
      "25%      0.00    0.00    0.00    0.00    0.00    0.00    0.00    0.00    0.00   \n",
      "50%      0.00    0.00    0.00    0.00    0.00    0.00    0.00    0.00    0.00   \n",
      "75%      0.00    0.00    0.00    0.00    0.00    0.00    0.00    0.00    0.00   \n",
      "max      7.30    4.50    7.30    9.20    5.80    9.20    2.70    2.70    2.00   \n",
      "\n",
      "         NE_s   NE_sp   NE_sa   score  score_p  score_a  w_score  w_score_p  \\\n",
      "count 5646.00 5646.00 5646.00 5646.00  5646.00  5646.00  5646.00    5646.00   \n",
      "mean     0.15    0.05    0.09    0.04    -0.01     0.05     0.00      -0.01   \n",
      "std      0.68    0.42    0.55    0.65     0.35     0.55     0.38       0.35   \n",
      "min     -3.00   -3.00   -3.00   -6.60    -5.20    -6.60    -5.20      -5.20   \n",
      "25%      0.00    0.00    0.00    0.00     0.00     0.00     0.00       0.00   \n",
      "50%      0.00    0.00    0.00    0.00     0.00     0.00     0.00       0.00   \n",
      "75%      0.00    0.00    0.00    0.00     0.00     0.00     0.00       0.00   \n",
      "max     11.70   11.70    6.00    9.20     5.80     9.20     5.80       5.80   \n",
      "\n",
      "       w_score_a  delay_weight  \n",
      "count    5646.00       5646.00  \n",
      "mean        0.01          3.19  \n",
      "std         0.14          1.56  \n",
      "min        -1.48          1.00  \n",
      "25%         0.00          1.00  \n",
      "50%         0.00          3.89  \n",
      "75%         0.00          4.53  \n",
      "max         2.26          5.09  \n"
     ]
    }
   ],
   "source": [
    "with pd.option_context(\n",
    "    \"display.max_colwidth\",\n",
    "    25,\n",
    "    \"display.precision\",\n",
    "    2,\n",
    "    \"display.float_format\",\n",
    "    lambda x: \"%.2f\" % x,\n",
    "):\n",
    "    print(\n",
    "        df[\n",
    "            [\n",
    "                \"PN_s\",\n",
    "                \"PN_sp\",\n",
    "                \"PN_sa\",\n",
    "                \"AN_s\",\n",
    "                \"AN_sp\",\n",
    "                \"AN_sa\",\n",
    "                \"CE_s\",\n",
    "                \"CE_sp\",\n",
    "                \"CE_sa\",\n",
    "                \"NE_s\",\n",
    "                \"NE_sp\",\n",
    "                \"NE_sa\",\n",
    "                \"score\",\n",
    "                \"score_p\",\n",
    "                \"score_a\",\n",
    "                \"w_score\",\n",
    "                \"w_score_p\",\n",
    "                \"w_score_a\",\n",
    "                \"delay_weight\",\n",
    "            ]\n",
    "        ].describe()\n",
    "    )"
   ]
  },
  {
   "cell_type": "code",
   "execution_count": null,
   "id": "f6afe4e8-cc16-42f4-b2f2-42303ab64462",
   "metadata": {},
   "outputs": [],
   "source": []
  }
 ],
 "metadata": {
  "jupytext": {
   "encoding": "# -*- coding: utf-8 -*-",
   "formats": "ipynb,py:percent"
  },
  "kernelspec": {
   "display_name": "Python 3",
   "language": "python",
   "name": "python3"
  },
  "language_info": {
   "codemirror_mode": {
    "name": "ipython",
    "version": 3
   },
   "file_extension": ".py",
   "mimetype": "text/x-python",
   "name": "python",
   "nbconvert_exporter": "python",
   "pygments_lexer": "ipython3",
   "version": "3.8.8"
  }
 },
 "nbformat": 4,
 "nbformat_minor": 5
}
